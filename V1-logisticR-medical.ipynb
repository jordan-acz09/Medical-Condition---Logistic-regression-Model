{
 "cells": [
  {
   "cell_type": "code",
   "execution_count": null,
   "id": "d44e39cb",
   "metadata": {},
   "outputs": [],
   "source": [
    "import numpy as np\n",
    "import pandas as pd\n",
    "import sklearn as sk\n",
    "import matplotlib as mp\n",
    "import joblib\n",
    "from sklearn.metrics import mean_squared_error\n",
    "from sklearn.linear_model import LogisticRegression\n",
    "from sklearn.model_selection import train_test_split\n",
    "import seaborn as sns"
   ]
  },
  {
   "cell_type": "code",
   "execution_count": null,
   "id": "d89f7b91",
   "metadata": {},
   "outputs": [],
   "source": [
    "df = pd.read_csv('/home/jcwiththelord/Downloads/healthcare_dataset.csv')\n",
    "print(df)\n",
    "print(df.head)\n",
    "df = df.drop(columns=['Name','Hospital', 'Date of Admission'], axis=1)\n",
    "df = df.dropna()\n",
    "print(df.info())"
   ]
  },
  {
   "cell_type": "code",
   "execution_count": null,
   "id": "a1a44fda",
   "metadata": {},
   "outputs": [],
   "source": [
    "#analysis of the data i will be using \n",
    "df['Medical Condition'].value_counts\n",
    "df['Blood Type'].value_counts\n",
    "df['Age'].hist()\n",
    "\n",
    "#Comparing my feature data to my target \n",
    "sns.boxplot(x='Medical Condition', y='Age', data=df)\n",
    "sns.countplot(x='Blood Type', hue='Medical Condition', data=df)\n",
    "sns.countplot(x='Gender', hue='Medical Condition', data=df)"
   ]
  },
  {
   "cell_type": "code",
   "execution_count": null,
   "id": "7ef11be0",
   "metadata": {},
   "outputs": [],
   "source": [
    "x = df.drop(columns=['Age', 'Gender', 'Blood Type'])\n",
    "y = df['Medical Condition']\n",
    "x = pd.get_dummies(x)"
   ]
  },
  {
   "cell_type": "code",
   "execution_count": null,
   "id": "ed8a5d09",
   "metadata": {},
   "outputs": [],
   "source": [
    "x_train, x_test, y_train, y_test = train_test_split(x, y, test_size=0.2, random_state=42)\n",
    "model = logisticRegresion()\n",
    "model.fit(x_train, y_train)"
   ]
  },
  {
   "cell_type": "code",
   "execution_count": null,
   "id": "06844bfc",
   "metadata": {},
   "outputs": [],
   "source": [
    "y_pred = model.predict(x_test)\n",
    "print(y_pred)\n",
    "mse = mean_squared_error(y_test, y_pred)\n",
    "print(mse)\n",
    "evaluate_model(model, x_test, y_test)"
   ]
  },
  {
   "cell_type": "code",
   "execution_count": null,
   "id": "fc1da2bd",
   "metadata": {},
   "outputs": [],
   "source": [
    "joblib.dump(model, 'model.pkl')\n",
    "loaded_model = joblib.load('model.pkl')\n",
    "result = loaded_model.score(X_test, Y_test)\n",
    "print(result)"
   ]
  }
 ],
 "metadata": {
  "kernelspec": {
   "display_name": "Python 3",
   "language": "python",
   "name": "python3"
  },
  "language_info": {
   "name": "python",
   "version": "3.12.11"
  }
 },
 "nbformat": 4,
 "nbformat_minor": 5
}
